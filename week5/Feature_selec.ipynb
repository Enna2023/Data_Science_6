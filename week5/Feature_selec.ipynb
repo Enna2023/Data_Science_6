{
 "cells": [
  {
   "attachments": {},
   "cell_type": "markdown",
   "metadata": {},
   "source": [
    "### Feature Selection\n",
    "\n",
    "Feature Selection is one of the core concepts in machine learning which hugely impacts the performance of your model. The data features that you use to train your machine learning models have a huge influence on the performance you can achieve.\n",
    "\n",
    "Irrelevant or partially relevant features can negatively impact model performance."
   ]
  },
  {
   "attachments": {},
   "cell_type": "markdown",
   "metadata": {},
   "source": [
    "### Benefits of performing feature selection:\n",
    "\n",
    "- Reduces Overfitting: Less redundant data means less opportunity to make decisions based on noise(irrelevant data).\n",
    "- Improves Performance: Less misleading data means model's performance improves.\n",
    "- Reduces Training Time: Less data means that algorithms train faster."
   ]
  },
  {
   "attachments": {},
   "cell_type": "markdown",
   "metadata": {},
   "source": [
    "**Out of the numerous feature selection techniques, we'll be discussing 4 here.**\n",
    "\n",
    "1. Recursive Feature Elimination (RFE)\n",
    "1. Feature Importance using Random Forest\n",
    "1. Boruta\n",
    "1. XGBoost"
   ]
  },
  {
   "attachments": {},
   "cell_type": "markdown",
   "metadata": {},
   "source": [
    "### About Dataset\n",
    "\n",
    "**Context**\n",
    "\n",
    "This dataset is originally from the National Institute of Diabetes and Digestive and Kidney Diseases. The objective of the dataset is to diagnostically predict whether or not a patient has diabetes, based on certain diagnostic measurements included in the dataset. Several constraints were placed on the selection of these instances from a larger database. In particular, all patients here are females at least 21 years old of Pima Indian heritage."
   ]
  },
  {
   "attachments": {},
   "cell_type": "markdown",
   "metadata": {},
   "source": [
    "**Content**\n",
    "\n",
    "The datasets consists of several medical predictor variables and one target variable, class (whether patient have diabetes or not). Predictor variables includes the number of pregnancies the patient has had, their BMI, insulin level, age, and so on."
   ]
  },
  {
   "attachments": {},
   "cell_type": "markdown",
   "metadata": {},
   "source": [
    "**Data Description**\n",
    "\n",
    "- preg: Number of times the patient had been pregnant\n",
    "- glucose: Plasma glucose concentration a 2 hours in an oral glucose tolerance test\n",
    "- bp: Diastolic blood pressure (mm Hg)\n",
    "- skin: Triceps skin fold thickness (mm)\n",
    "- insulin: 2-Hour serum insulin (mu U/ml)\n",
    "- bmi: Body mass index (weight in kg/(height in m)^2)\n",
    "- pedi: Diabetes pedigree function\n",
    "- age: Age of the patient in years\n",
    "- class: Have diabetes or not (0 means have no diabetes; 1 means have diabetes); 268 of 768 are 1, the others are 0"
   ]
  },
  {
   "cell_type": "code",
   "execution_count": 2,
   "metadata": {},
   "outputs": [],
   "source": [
    "# Importing packages\n",
    "import numpy as np # for array related operations\n",
    "import pandas as pd # to read csv\n",
    "import matplotlib.pyplot as plt # for visualisation\n",
    "import seaborn as sns # for visualisation\n",
    "\n",
    "# ignoring the warnings\n",
    "import warnings\n",
    "warnings.filterwarnings('ignore')"
   ]
  },
  {
   "cell_type": "code",
   "execution_count": 3,
   "metadata": {},
   "outputs": [
    {
     "data": {
      "text/html": [
       "<div>\n",
       "<style scoped>\n",
       "    .dataframe tbody tr th:only-of-type {\n",
       "        vertical-align: middle;\n",
       "    }\n",
       "\n",
       "    .dataframe tbody tr th {\n",
       "        vertical-align: top;\n",
       "    }\n",
       "\n",
       "    .dataframe thead th {\n",
       "        text-align: right;\n",
       "    }\n",
       "</style>\n",
       "<table border=\"1\" class=\"dataframe\">\n",
       "  <thead>\n",
       "    <tr style=\"text-align: right;\">\n",
       "      <th></th>\n",
       "      <th>preg</th>\n",
       "      <th>glucose</th>\n",
       "      <th>bp</th>\n",
       "      <th>skin</th>\n",
       "      <th>insulin</th>\n",
       "      <th>bmi</th>\n",
       "      <th>pedi</th>\n",
       "      <th>age</th>\n",
       "      <th>class</th>\n",
       "    </tr>\n",
       "  </thead>\n",
       "  <tbody>\n",
       "    <tr>\n",
       "      <th>0</th>\n",
       "      <td>6</td>\n",
       "      <td>148</td>\n",
       "      <td>72</td>\n",
       "      <td>35</td>\n",
       "      <td>0</td>\n",
       "      <td>33.6</td>\n",
       "      <td>0.627</td>\n",
       "      <td>50</td>\n",
       "      <td>1</td>\n",
       "    </tr>\n",
       "    <tr>\n",
       "      <th>1</th>\n",
       "      <td>1</td>\n",
       "      <td>85</td>\n",
       "      <td>66</td>\n",
       "      <td>29</td>\n",
       "      <td>0</td>\n",
       "      <td>26.6</td>\n",
       "      <td>0.351</td>\n",
       "      <td>31</td>\n",
       "      <td>0</td>\n",
       "    </tr>\n",
       "    <tr>\n",
       "      <th>2</th>\n",
       "      <td>8</td>\n",
       "      <td>183</td>\n",
       "      <td>64</td>\n",
       "      <td>0</td>\n",
       "      <td>0</td>\n",
       "      <td>23.3</td>\n",
       "      <td>0.672</td>\n",
       "      <td>32</td>\n",
       "      <td>1</td>\n",
       "    </tr>\n",
       "    <tr>\n",
       "      <th>3</th>\n",
       "      <td>1</td>\n",
       "      <td>89</td>\n",
       "      <td>66</td>\n",
       "      <td>23</td>\n",
       "      <td>94</td>\n",
       "      <td>28.1</td>\n",
       "      <td>0.167</td>\n",
       "      <td>21</td>\n",
       "      <td>0</td>\n",
       "    </tr>\n",
       "    <tr>\n",
       "      <th>4</th>\n",
       "      <td>0</td>\n",
       "      <td>137</td>\n",
       "      <td>40</td>\n",
       "      <td>35</td>\n",
       "      <td>168</td>\n",
       "      <td>43.1</td>\n",
       "      <td>2.288</td>\n",
       "      <td>33</td>\n",
       "      <td>1</td>\n",
       "    </tr>\n",
       "  </tbody>\n",
       "</table>\n",
       "</div>"
      ],
      "text/plain": [
       "   preg  glucose  bp  skin  insulin   bmi   pedi  age  class\n",
       "0     6      148  72    35        0  33.6  0.627   50      1\n",
       "1     1       85  66    29        0  26.6  0.351   31      0\n",
       "2     8      183  64     0        0  23.3  0.672   32      1\n",
       "3     1       89  66    23       94  28.1  0.167   21      0\n",
       "4     0      137  40    35      168  43.1  2.288   33      1"
      ]
     },
     "execution_count": 3,
     "metadata": {},
     "output_type": "execute_result"
    }
   ],
   "source": [
    "# load data\n",
    "\n",
    "col_names = ['preg', 'glucose', 'bp', 'skin', 'insulin', 'bmi', 'pedi', 'age', 'class']\n",
    "data = pd.read_csv(\"https://raw.githubusercontent.com/dphi-official/Datasets/master/pima-indians-diabetes.csv\", names=col_names)\n",
    "# names=col_names assigns the given names to the DataFrame columns (just to make the names shorter)\n",
    "\n",
    "data.head()"
   ]
  },
  {
   "cell_type": "code",
   "execution_count": 4,
   "metadata": {},
   "outputs": [
    {
     "name": "stdout",
     "output_type": "stream",
     "text": [
      "<class 'pandas.core.frame.DataFrame'>\n",
      "RangeIndex: 768 entries, 0 to 767\n",
      "Data columns (total 9 columns):\n",
      " #   Column   Non-Null Count  Dtype  \n",
      "---  ------   --------------  -----  \n",
      " 0   preg     768 non-null    int64  \n",
      " 1   glucose  768 non-null    int64  \n",
      " 2   bp       768 non-null    int64  \n",
      " 3   skin     768 non-null    int64  \n",
      " 4   insulin  768 non-null    int64  \n",
      " 5   bmi      768 non-null    float64\n",
      " 6   pedi     768 non-null    float64\n",
      " 7   age      768 non-null    int64  \n",
      " 8   class    768 non-null    int64  \n",
      "dtypes: float64(2), int64(7)\n",
      "memory usage: 54.1 KB\n"
     ]
    }
   ],
   "source": [
    "data.info()"
   ]
  },
  {
   "attachments": {},
   "cell_type": "markdown",
   "metadata": {},
   "source": [
    "### Correlation Matrix with Heatmap"
   ]
  },
  {
   "attachments": {},
   "cell_type": "markdown",
   "metadata": {},
   "source": [
    "Heatmap makes it easy to identify which features are most related to the target variable"
   ]
  },
  {
   "cell_type": "code",
   "execution_count": 5,
   "metadata": {},
   "outputs": [
    {
     "data": {
      "text/plain": [
       "<AxesSubplot: >"
      ]
     },
     "execution_count": 5,
     "metadata": {},
     "output_type": "execute_result"
    },
    {
     "data": {
      "image/png": "[encoded data removed]",
      "text/plain": [
       "<Figure size 1000x600 with 2 Axes>"
      ]
     },
     "metadata": {},
     "output_type": "display_data"
    }
   ],
   "source": [
    "#get correlations of each features in dataset\n",
    "corrmat = data.corr()\n",
    "plt.figure(figsize=(10,6))\n",
    "sns.heatmap(corrmat, annot=True, cmap=\"RdYlGn\")"
   ]
  },
  {
   "attachments": {},
   "cell_type": "markdown",
   "metadata": {},
   "source": [
    "We can see from an initial analysis of the heatmap that glucose, bmi, age, preg, pedi and insulin are the top 6 features that have relatively high correlation(positive) with class(our target variable). It means that as they increase, diabetes of the patient also increases.\n",
    "\n",
    "Also, age and preg are highly correlated with each other.\n",
    "\n",
    "Now, you might say why not remove irrelevant features by intuition or just looking at the heatmap?\n",
    "\n",
    "In general it’s advisable not to be influenced by one’s bias or intuition.\n",
    "\n",
    "In a real-life situation, we would have to deal with more than 3 features (from some hundreds to many thousands, typically). Thus, it would be unfeasible to go through each of them and decide whether to keep it or not. Moreover, there might be relationships among variables that are not easily spotted by a human eye, not even with accurate analysis.\n",
    "\n",
    "Ideally, we would like to find an algorithm that is able to autonomously decide whether any given feature of X bears some predictive value about y."
   ]
  },
  {
   "cell_type": "code",
   "execution_count": 6,
   "metadata": {},
   "outputs": [],
   "source": [
    "# Splitting data into Input and Target Variable\n",
    "\n",
    "y = data[['class']] # target variable i.e diabetic or not\n",
    "X = data.drop(['class'], axis=1) # input variables"
   ]
  },
  {
   "cell_type": "code",
   "execution_count": 7,
   "metadata": {},
   "outputs": [],
   "source": [
    "# Split into train and test sets\n",
    "from sklearn.model_selection import train_test_split\n",
    "\n",
    "X_train, X_test, y_train, y_test = train_test_split(X, y,\n",
    "test_size=0.33,\n",
    "random_state=1)"
   ]
  },
  {
   "attachments": {},
   "cell_type": "markdown",
   "metadata": {},
   "source": [
    "The **steps** that we'll follow will look like:\n",
    "\n",
    "- Train a baseline classifier ( any classifier like logistic regression or random forest trained with all the features in dataset)\n",
    "- Identify the most important features using a feature selection technique\n",
    "- Create a new ‘limited features’ dataset containing only those features\n",
    "- Train a second classifier on this new dataset\n",
    "- Compare the accuracy of the ‘full featured’(baseline) classifier to the accuracy of the ‘limited featured’(new) classifier"
   ]
  },
  {
   "attachments": {},
   "cell_type": "markdown",
   "metadata": {},
   "source": [
    "### 1. Recursive Feature Elimination (RFE)"
   ]
  },
  {
   "attachments": {},
   "cell_type": "markdown",
   "metadata": {},
   "source": [
    "Recursive = Something that happens repeatedly\n",
    "\n",
    "As the name suggests, Recursive Feature Elimination works by recursively(repeatedly) removing features and building a model on the features that remain.\n",
    "\n",
    "The example below uses RFE with the logistic regression algorithm to select the top 3 features. The choice of algorithm does not matter, instead of logistic we can use any other algorithm that is skillful and consistent.\n",
    "\n",
    "We use feature selection module from sklearn library to apply Recursive Feature Elimination (RFE)"
   ]
  },
  {
   "attachments": {},
   "cell_type": "markdown",
   "metadata": {},
   "source": [
    "**Train a Logistic Regression Model (Baseline Model)**\n",
    "\n",
    "This is the basic Logistic Regression model we'll use to check if the first feature selection technique makes any improvements."
   ]
  },
  {
   "cell_type": "code",
   "execution_count": 8,
   "metadata": {},
   "outputs": [],
   "source": [
    "# Building the Logistic Regression model\n",
    "from sklearn.linear_model import LogisticRegression\n",
    "\n",
    "clf_lr = LogisticRegression(random_state = 1)\n",
    "lr_baseline_model = clf_lr.fit(X_train,y_train)"
   ]
  },
  {
   "cell_type": "code",
   "execution_count": 9,
   "metadata": {},
   "outputs": [
    {
     "name": "stdout",
     "output_type": "stream",
     "text": [
      "Baseline Model Accuracy: 0.7795275590551181\n",
      "Baseline Model F1 Score: 0.6455696202531646\n"
     ]
    }
   ],
   "source": [
    "# Noting down accuracy of the baseline model\n",
    "from sklearn.metrics import accuracy_score, f1_score\n",
    "\n",
    "# finding our predicted values\n",
    "y_pred = lr_baseline_model.predict(X_test)\n",
    "\n",
    "# Calculating the accuracy and F1 Score by comparing the actual and predicted values\n",
    "ac = accuracy_score(y_test, y_pred)\n",
    "f_score = f1_score(y_test ,y_pred)\n",
    "\n",
    "print(\"Baseline Model Accuracy:\", ac)\n",
    "print(\"Baseline Model F1 Score:\", f_score)"
   ]
  },
  {
   "attachments": {},
   "cell_type": "markdown",
   "metadata": {},
   "source": [
    "**Applying RFE**"
   ]
  },
  {
   "cell_type": "code",
   "execution_count": 10,
   "metadata": {},
   "outputs": [
    {
     "name": "stdout",
     "output_type": "stream",
     "text": [
      "Num Features: 4\n",
      "Selected Features: [ True  True False False False  True  True False]\n",
      "Feature Ranking: [1 1 3 4 5 1 1 2]\n"
     ]
    }
   ],
   "source": [
    "from sklearn.feature_selection import RFE #importing RFE class from sklearn library\n",
    "\n",
    "rfe = RFE(estimator= clf_lr , step = 1)\n",
    "# estimator clf_lr is the baseline model (basic model) that we have created under \"Base line Model\" selection\n",
    "# step = 1: removes one feature at a time and then builds a model on the remaining features\n",
    "# It uses the model accuracy to identify which features (and combination of features) contribute the most to predicting the target variable.\n",
    "# we can even provide no. of features as an argument\n",
    "\n",
    "# Fit the function for ranking the features\n",
    "fit = rfe.fit(X_train, y_train)\n",
    "\n",
    "print(\"Num Features: %d\" % fit.n_features_) # no. of features\n",
    "print(\"Selected Features: %s\" % fit.support_) # selected features\n",
    "print(\"Feature Ranking: %s\" % fit.ranking_) # ranking of features"
   ]
  },
  {
   "attachments": {},
   "cell_type": "markdown",
   "metadata": {},
   "source": [
    "**Representing feature ranks in the form of a table**\n",
    "\n",
    "Through the output mentioned above we can't understand which feature has a better rank unless we see the index of each. In order to better visualise, we can put it in the form of a table with ranking as mentioned below."
   ]
  },
  {
   "cell_type": "code",
   "execution_count": 11,
   "metadata": {},
   "outputs": [
    {
     "data": {
      "text/html": [
       "<div>\n",
       "<style scoped>\n",
       "    .dataframe tbody tr th:only-of-type {\n",
       "        vertical-align: middle;\n",
       "    }\n",
       "\n",
       "    .dataframe tbody tr th {\n",
       "        vertical-align: top;\n",
       "    }\n",
       "\n",
       "    .dataframe thead th {\n",
       "        text-align: right;\n",
       "    }\n",
       "</style>\n",
       "<table border=\"1\" class=\"dataframe\">\n",
       "  <thead>\n",
       "    <tr style=\"text-align: right;\">\n",
       "      <th></th>\n",
       "      <th>Feature</th>\n",
       "      <th>Ranking</th>\n",
       "    </tr>\n",
       "  </thead>\n",
       "  <tbody>\n",
       "    <tr>\n",
       "      <th>0</th>\n",
       "      <td>preg</td>\n",
       "      <td>1</td>\n",
       "    </tr>\n",
       "    <tr>\n",
       "      <th>1</th>\n",
       "      <td>glucose</td>\n",
       "      <td>1</td>\n",
       "    </tr>\n",
       "    <tr>\n",
       "      <th>5</th>\n",
       "      <td>bmi</td>\n",
       "      <td>1</td>\n",
       "    </tr>\n",
       "    <tr>\n",
       "      <th>6</th>\n",
       "      <td>pedi</td>\n",
       "      <td>1</td>\n",
       "    </tr>\n",
       "    <tr>\n",
       "      <th>7</th>\n",
       "      <td>age</td>\n",
       "      <td>2</td>\n",
       "    </tr>\n",
       "    <tr>\n",
       "      <th>2</th>\n",
       "      <td>bp</td>\n",
       "      <td>3</td>\n",
       "    </tr>\n",
       "    <tr>\n",
       "      <th>3</th>\n",
       "      <td>skin</td>\n",
       "      <td>4</td>\n",
       "    </tr>\n",
       "    <tr>\n",
       "      <th>4</th>\n",
       "      <td>insulin</td>\n",
       "      <td>5</td>\n",
       "    </tr>\n",
       "  </tbody>\n",
       "</table>\n",
       "</div>"
      ],
      "text/plain": [
       "   Feature  Ranking\n",
       "0     preg        1\n",
       "1  glucose        1\n",
       "5      bmi        1\n",
       "6     pedi        1\n",
       "7      age        2\n",
       "2       bp        3\n",
       "3     skin        4\n",
       "4  insulin        5"
      ]
     },
     "execution_count": 11,
     "metadata": {},
     "output_type": "execute_result"
    }
   ],
   "source": [
    "selected_rfe_features = pd.DataFrame({'Feature':list(X_train.columns),\n",
    "'Ranking':rfe.ranking_})\n",
    "selected_rfe_features.sort_values(by='Ranking')"
   ]
  },
  {
   "attachments": {},
   "cell_type": "markdown",
   "metadata": {},
   "source": [
    "You can see that RFE gives preg, glucose, bmi and pedi the first rank."
   ]
  },
  {
   "attachments": {},
   "cell_type": "markdown",
   "metadata": {},
   "source": [
    "**Create a new subset of the data with only the selected features**\n",
    "\n",
    "To select important features you need to apply transformation on the dataset. We use .transform() to transform our dataset with important selected features. Always remember that train and test data must be transformed separately, else there might be data leak that hampers the model training."
   ]
  },
  {
   "cell_type": "code",
   "execution_count": 12,
   "metadata": {},
   "outputs": [],
   "source": [
    "# Transforming the data\n",
    "X_train_rfe = rfe.transform(X_train)\n",
    "X_test_rfe = rfe.transform(X_test)\n",
    "\n",
    "# Fitting our baseline model with the transformed data\n",
    "lr_rfe_model = clf_lr.fit(X_train_rfe, y_train)"
   ]
  },
  {
   "attachments": {},
   "cell_type": "markdown",
   "metadata": {},
   "source": [
    "**Comparison of model performance with and without feature selection**"
   ]
  },
  {
   "cell_type": "code",
   "execution_count": 13,
   "metadata": {},
   "outputs": [
    {
     "name": "stdout",
     "output_type": "stream",
     "text": [
      "RFE Model Accuracy: 0.7795275590551181\n",
      "RFE Model F1 Score: 0.641025641025641\n"
     ]
    }
   ],
   "source": [
    "# making predictions and evaluating the model\n",
    "y_pred_rfe = lr_rfe_model.predict(X_test_rfe)\n",
    "\n",
    "rfe_ac = accuracy_score(y_test, y_pred_rfe)\n",
    "rfe_fscore = f1_score(y_test ,y_pred_rfe)\n",
    "\n",
    "print(\"RFE Model Accuracy:\", rfe_ac)\n",
    "print(\"RFE Model F1 Score:\", rfe_fscore)"
   ]
  },
  {
   "attachments": {},
   "cell_type": "markdown",
   "metadata": {},
   "source": [
    "We can see an improvement in both accuracy and F1 score as oppose to the baseline model (clf_lr) where we didn't apply feature selection"
   ]
  },
  {
   "attachments": {},
   "cell_type": "markdown",
   "metadata": {},
   "source": [
    "### 2. Feature Importance using Random Forest"
   ]
  },
  {
   "attachments": {},
   "cell_type": "markdown",
   "metadata": {},
   "source": [
    "Feature importance is another feature selection technique used to select features. It gives you a score for each feature of your data, the higher the score more important or relevant is the feature towards your output variable.\n",
    "\n",
    "Bagged decision trees models like Random Forest can be used to estimate the importance of features."
   ]
  },
  {
   "attachments": {},
   "cell_type": "markdown",
   "metadata": {},
   "source": [
    "**Train a Random Forest Classifier (Baseline Model)**"
   ]
  },
  {
   "cell_type": "code",
   "execution_count": 14,
   "metadata": {},
   "outputs": [
    {
     "data": {
      "image/png": "[encoded data removed]",
      "text/plain": [
       "<Figure size 640x480 with 1 Axes>"
      ]
     },
     "metadata": {},
     "output_type": "display_data"
    }
   ],
   "source": [
    "from sklearn.ensemble import RandomForestClassifier\n",
    "\n",
    "# Create a random forest classifier\n",
    "rf_clf = RandomForestClassifier(n_estimators=10000, random_state=1, n_jobs=-1)\n",
    "\n",
    "# n_estimators = The number of trees in the forest.\n",
    "# n_jobs = -1 : Use all processors for training\n",
    "\n",
    "# Train the classifier\n",
    "rf_clf.fit(X_train, y_train)\n",
    "\n",
    "#plot graph of feature importances for better visualization\n",
    "feat_importances = pd.Series(rf_clf.feature_importances_, index=X_train.columns)\n",
    "feat_importances.nlargest(10).plot(kind='barh')\n",
    "plt.show()"
   ]
  },
  {
   "attachments": {},
   "cell_type": "markdown",
   "metadata": {},
   "source": [
    "The scores above are the importance scores for each variable. There are two things to note. First, all the importance scores add up to 100%.\n",
    "\n",
    "Second, glucose, bmi, age, pedi are the top 4 features. The individual score of each is above 0.13. When combined, these 4 features have an importance of around 67.8%."
   ]
  },
  {
   "attachments": {},
   "cell_type": "markdown",
   "metadata": {},
   "source": [
    "**Identify and Select Most Important Features**"
   ]
  },
  {
   "cell_type": "code",
   "execution_count": 15,
   "metadata": {},
   "outputs": [],
   "source": [
    "from sklearn.feature_selection import SelectFromModel\n",
    "# Create a selector object that will use the random forest classifier to identify\n",
    "# It will select the features based on the importance score\n",
    "rf_sfm = SelectFromModel(rf_clf)\n",
    "\n",
    "#Alternatively if you want to set a specific threshold and select the features you may the following code that is commented\n",
    "# features that have an importance of more than 0.13 ( all top 4 features lie above this)\n",
    "# rf_sfm = SelectFromModel(rf_clf, threshold=0.13)\n",
    "\n",
    "# Train the selector\n",
    "rf_sfm = rf_sfm.fit(X_train, y_train)"
   ]
  },
  {
   "attachments": {},
   "cell_type": "markdown",
   "metadata": {},
   "source": [
    "**Create a new subset of the data with only the selected features**"
   ]
  },
  {
   "attachments": {},
   "cell_type": "markdown",
   "metadata": {},
   "source": [
    "To select important features you need to apply transformation on the dataset. We use .transform() to transform our dataset with important selected features. Always remember that train and test data must be transformed separately, else there might be data leak that hampers the model training."
   ]
  },
  {
   "cell_type": "code",
   "execution_count": 16,
   "metadata": {},
   "outputs": [],
   "source": [
    "# Transform the data to create a new dataset containing only the most important features\n",
    "# Note: We have to apply the transform to both the training X and test X data.\n",
    "X_important_train = rf_sfm.transform(X_train) # X_train is the input data\n",
    "X_important_test = rf_sfm.transform(X_test) # X_test is the input data"
   ]
  },
  {
   "attachments": {},
   "cell_type": "markdown",
   "metadata": {},
   "source": [
    "**Train a new Random Forest Classifier using selected important features**"
   ]
  },
  {
   "cell_type": "code",
   "execution_count": 17,
   "metadata": {},
   "outputs": [],
   "source": [
    "# Create a new random forest classifier for the most important features\n",
    "clf_important = RandomForestClassifier(n_estimators=10000, random_state=1, n_jobs=-1)\n",
    "\n",
    "# Train the new classifier on the new dataset containing the most important features\n",
    "clf_important = clf_important.fit(X_important_train, y_train)"
   ]
  },
  {
   "attachments": {},
   "cell_type": "markdown",
   "metadata": {},
   "source": [
    "**Comparison of model performance with and without feature selection**"
   ]
  },
  {
   "cell_type": "code",
   "execution_count": 18,
   "metadata": {},
   "outputs": [
    {
     "name": "stdout",
     "output_type": "stream",
     "text": [
      "Baseline Model Accuracy: 0.7913385826771654\n",
      "Baseline Model F1 Score: 0.6666666666666666\n"
     ]
    }
   ],
   "source": [
    "y_pred = rf_clf.predict(X_test)\n",
    "rf_ac = accuracy_score(y_test, y_pred)\n",
    "rf_fscore = f1_score(y_test ,y_pred)\n",
    "\n",
    "# View The Accuracy Of Our Full Feature (8 Features) Model\n",
    "print(\"Baseline Model Accuracy:\", rf_ac)\n",
    "print(\"Baseline Model F1 Score:\", rf_fscore)"
   ]
  },
  {
   "cell_type": "code",
   "execution_count": 19,
   "metadata": {},
   "outputs": [
    {
     "name": "stdout",
     "output_type": "stream",
     "text": [
      "Limited Features Model Accuracy: 0.7716535433070866\n",
      "Limited Features Model F1 Score: 0.6506024096385542\n"
     ]
    }
   ],
   "source": [
    "# Apply The Full Featured Classifier To The Test Data\n",
    "y_important_pred = clf_important.predict(X_important_test)\n",
    "\n",
    "# View The Accuracy Of Our Limited Feature (4 Features) Model\n",
    "rf_imp_ac = accuracy_score(y_test, y_important_pred)\n",
    "rf_imp_fscore = f1_score(y_test, y_important_pred)\n",
    "\n",
    "print(\"Limited Features Model Accuracy:\", rf_imp_ac)\n",
    "print(\"Limited Features Model F1 Score:\", rf_imp_fscore)"
   ]
  },
  {
   "attachments": {},
   "cell_type": "markdown",
   "metadata": {},
   "source": [
    "As can be seen by the above metrics, the accuracy and F1 Score of our original model which contained all eight features and ‘limited’ model which contained only two features is almost the same. We have halved the number of features in the model without changing the accuracy much, which is great!"
   ]
  },
  {
   "attachments": {},
   "cell_type": "markdown",
   "metadata": {},
   "source": [
    "### 3. Boruta\n",
    "\n",
    "Boruta is an all-relevant feature selection method. Unlike other techniques that select small set of features to minimize the error, Boruta tries to capture all the important and interesting features you might have in your dataset with respect to the target variable.\n",
    "\n",
    "Boruta by default uses random forest although it works with other algorithms like LightGBM, XGBoost etc.\n",
    "\n",
    "NOTE: BorutaPy accepts numpy arrays only.\n",
    "\n",
    "You can install Boruta with the command\n",
    "\n",
    "pip install Boruta"
   ]
  },
  {
   "cell_type": "code",
   "execution_count": 20,
   "metadata": {},
   "outputs": [],
   "source": [
    "from sklearn.feature_selection import SelectFromModel\n",
    "from sklearn.metrics import accuracy_score, f1_score\n",
    "from sklearn.ensemble import RandomForestClassifier"
   ]
  },
  {
   "attachments": {},
   "cell_type": "markdown",
   "metadata": {},
   "source": [
    "**Train a Random Forest Classifier (Baseline Model)**"
   ]
  },
  {
   "cell_type": "code",
   "execution_count": 21,
   "metadata": {},
   "outputs": [
    {
     "data": {
      "text/html": [
       "<style>#sk-container-id-1 {color: black;background-color: white;}#sk-container-id-1 pre{padding: 0;}#sk-container-id-1 div.sk-toggleable {background-color: white;}#sk-container-id-1 label.sk-toggleable__label {cursor: pointer;display: block;width: 100%;margin-bottom: 0;padding: 0.3em;box-sizing: border-box;text-align: center;}#sk-container-id-1 label.sk-toggleable__label-arrow:before {content: \"▸\";float: left;margin-right: 0.25em;color: #696969;}#sk-container-id-1 label.sk-toggleable__label-arrow:hover:before {color: black;}#sk-container-id-1 div.sk-estimator:hover label.sk-toggleable__label-arrow:before {color: black;}#sk-container-id-1 div.sk-toggleable__content {max-height: 0;max-width: 0;overflow: hidden;text-align: left;background-color: #f0f8ff;}#sk-container-id-1 div.sk-toggleable__content pre {margin: 0.2em;color: black;border-radius: 0.25em;background-color: #f0f8ff;}#sk-container-id-1 input.sk-toggleable__control:checked~div.sk-toggleable__content {max-height: 200px;max-width: 100%;overflow: auto;}#sk-container-id-1 input.sk-toggleable__control:checked~label.sk-toggleable__label-arrow:before {content: \"▾\";}#sk-container-id-1 div.sk-estimator input.sk-toggleable__control:checked~label.sk-toggleable__label {background-color: #d4ebff;}#sk-container-id-1 div.sk-label input.sk-toggleable__control:checked~label.sk-toggleable__label {background-color: #d4ebff;}#sk-container-id-1 input.sk-hidden--visually {border: 0;clip: rect(1px 1px 1px 1px);clip: rect(1px, 1px, 1px, 1px);height: 1px;margin: -1px;overflow: hidden;padding: 0;position: absolute;width: 1px;}#sk-container-id-1 div.sk-estimator {font-family: monospace;background-color: #f0f8ff;border: 1px dotted black;border-radius: 0.25em;box-sizing: border-box;margin-bottom: 0.5em;}#sk-container-id-1 div.sk-estimator:hover {background-color: #d4ebff;}#sk-container-id-1 div.sk-parallel-item::after {content: \"\";width: 100%;border-bottom: 1px solid gray;flex-grow: 1;}#sk-container-id-1 div.sk-label:hover label.sk-toggleable__label {background-color: #d4ebff;}#sk-container-id-1 div.sk-serial::before {content: \"\";position: absolute;border-left: 1px solid gray;box-sizing: border-box;top: 0;bottom: 0;left: 50%;z-index: 0;}#sk-container-id-1 div.sk-serial {display: flex;flex-direction: column;align-items: center;background-color: white;padding-right: 0.2em;padding-left: 0.2em;position: relative;}#sk-container-id-1 div.sk-item {position: relative;z-index: 1;}#sk-container-id-1 div.sk-parallel {display: flex;align-items: stretch;justify-content: center;background-color: white;position: relative;}#sk-container-id-1 div.sk-item::before, #sk-container-id-1 div.sk-parallel-item::before {content: \"\";position: absolute;border-left: 1px solid gray;box-sizing: border-box;top: 0;bottom: 0;left: 50%;z-index: -1;}#sk-container-id-1 div.sk-parallel-item {display: flex;flex-direction: column;z-index: 1;position: relative;background-color: white;}#sk-container-id-1 div.sk-parallel-item:first-child::after {align-self: flex-end;width: 50%;}#sk-container-id-1 div.sk-parallel-item:last-child::after {align-self: flex-start;width: 50%;}#sk-container-id-1 div.sk-parallel-item:only-child::after {width: 0;}#sk-container-id-1 div.sk-dashed-wrapped {border: 1px dashed gray;margin: 0 0.4em 0.5em 0.4em;box-sizing: border-box;padding-bottom: 0.4em;background-color: white;}#sk-container-id-1 div.sk-label label {font-family: monospace;font-weight: bold;display: inline-block;line-height: 1.2em;}#sk-container-id-1 div.sk-label-container {text-align: center;}#sk-container-id-1 div.sk-container {/* jupyter's `normalize.less` sets `[hidden] { display: none; }` but bootstrap.min.css set `[hidden] { display: none !important; }` so we also need the `!important` here to be able to override the default hidden behavior on the sphinx rendered scikit-learn.org. See: https://github.com/scikit-learn/scikit-learn/issues/21755 */display: inline-block !important;position: relative;}#sk-container-id-1 div.sk-text-repr-fallback {display: none;}</style><div id=\"sk-container-id-1\" class=\"sk-top-container\"><div class=\"sk-text-repr-fallback\"><pre>RandomForestClassifier(max_depth=5, n_jobs=-1, random_state=1)</pre><b>In a Jupyter environment, please rerun this cell to show the HTML representation or trust the notebook. <br />On GitHub, the HTML representation is unable to render, please try loading this page with nbviewer.org.</b></div><div class=\"sk-container\" hidden><div class=\"sk-item\"><div class=\"sk-estimator sk-toggleable\"><input class=\"sk-toggleable__control sk-hidden--visually\" id=\"sk-estimator-id-1\" type=\"checkbox\" checked><label for=\"sk-estimator-id-1\" class=\"sk-toggleable__label sk-toggleable__label-arrow\">RandomForestClassifier</label><div class=\"sk-toggleable__content\"><pre>RandomForestClassifier(max_depth=5, n_jobs=-1, random_state=1)</pre></div></div></div></div></div>"
      ],
      "text/plain": [
       "RandomForestClassifier(max_depth=5, n_jobs=-1, random_state=1)"
      ]
     },
     "execution_count": 21,
     "metadata": {},
     "output_type": "execute_result"
    }
   ],
   "source": [
    "from boruta import BorutaPy\n",
    "\n",
    "# define random forest classifier\n",
    "forest = RandomForestClassifier(n_jobs=-1, max_depth=5, random_state=1)\n",
    "\n",
    "forest.fit(X_train, y_train)"
   ]
  },
  {
   "cell_type": "code",
   "execution_count": 22,
   "metadata": {},
   "outputs": [
    {
     "name": "stdout",
     "output_type": "stream",
     "text": [
      "Baseline Model Accuracy: 0.7834645669291339\n",
      "Baseline Model F1 Score: 0.6451612903225805\n"
     ]
    }
   ],
   "source": [
    "# Apply The Full Featured Classifier To The Test Data\n",
    "y_pred = forest.predict(X_test)\n",
    "ac = accuracy_score(y_test, y_pred)\n",
    "fscore = f1_score(y_test ,y_pred)\n",
    "\n",
    "# View The Accuracy Of Our Full Feature (8 Features) Model\n",
    "print(\"Baseline Model Accuracy:\", ac)\n",
    "print(\"Baseline Model F1 Score:\", fscore)"
   ]
  },
  {
   "attachments": {},
   "cell_type": "markdown",
   "metadata": {},
   "source": [
    "**Applying Boruta use NumPy array for computational and other benefits**"
   ]
  },
  {
   "cell_type": "code",
   "execution_count": 23,
   "metadata": {},
   "outputs": [
    {
     "name": "stdout",
     "output_type": "stream",
     "text": [
      "Iteration: \t1 / 100\n",
      "Confirmed: \t0\n",
      "Tentative: \t8\n",
      "Rejected: \t0\n",
      "Iteration: \t2 / 100\n",
      "Confirmed: \t0\n",
      "Tentative: \t8\n",
      "Rejected: \t0\n",
      "Iteration: \t3 / 100\n",
      "Confirmed: \t0\n",
      "Tentative: \t8\n",
      "Rejected: \t0\n",
      "Iteration: \t4 / 100\n",
      "Confirmed: \t0\n",
      "Tentative: \t8\n",
      "Rejected: \t0\n",
      "Iteration: \t5 / 100\n",
      "Confirmed: \t0\n",
      "Tentative: \t8\n",
      "Rejected: \t0\n",
      "Iteration: \t6 / 100\n",
      "Confirmed: \t0\n",
      "Tentative: \t8\n",
      "Rejected: \t0\n",
      "Iteration: \t7 / 100\n",
      "Confirmed: \t0\n",
      "Tentative: \t8\n",
      "Rejected: \t0\n",
      "Iteration: \t8 / 100\n",
      "Confirmed: \t3\n",
      "Tentative: \t5\n",
      "Rejected: \t0\n",
      "Iteration: \t9 / 100\n",
      "Confirmed: \t3\n",
      "Tentative: \t5\n",
      "Rejected: \t0\n",
      "Iteration: \t10 / 100\n",
      "Confirmed: \t3\n",
      "Tentative: \t5\n",
      "Rejected: \t0\n",
      "Iteration: \t11 / 100\n",
      "Confirmed: \t3\n",
      "Tentative: \t5\n",
      "Rejected: \t0\n",
      "Iteration: \t12 / 100\n",
      "Confirmed: \t4\n",
      "Tentative: \t3\n",
      "Rejected: \t1\n",
      "Iteration: \t13 / 100\n",
      "Confirmed: \t4\n",
      "Tentative: \t3\n",
      "Rejected: \t1\n",
      "Iteration: \t14 / 100\n",
      "Confirmed: \t4\n",
      "Tentative: \t3\n",
      "Rejected: \t1\n",
      "Iteration: \t15 / 100\n",
      "Confirmed: \t4\n",
      "Tentative: \t3\n",
      "Rejected: \t1\n",
      "Iteration: \t16 / 100\n",
      "Confirmed: \t4\n",
      "Tentative: \t3\n",
      "Rejected: \t1\n",
      "Iteration: \t17 / 100\n",
      "Confirmed: \t4\n",
      "Tentative: \t3\n",
      "Rejected: \t1\n",
      "Iteration: \t18 / 100\n",
      "Confirmed: \t4\n",
      "Tentative: \t3\n",
      "Rejected: \t1\n",
      "Iteration: \t19 / 100\n",
      "Confirmed: \t4\n",
      "Tentative: \t3\n",
      "Rejected: \t1\n",
      "Iteration: \t20 / 100\n",
      "Confirmed: \t4\n",
      "Tentative: \t3\n",
      "Rejected: \t1\n",
      "Iteration: \t21 / 100\n",
      "Confirmed: \t4\n",
      "Tentative: \t3\n",
      "Rejected: \t1\n",
      "Iteration: \t22 / 100\n",
      "Confirmed: \t4\n",
      "Tentative: \t3\n",
      "Rejected: \t1\n",
      "Iteration: \t23 / 100\n",
      "Confirmed: \t4\n",
      "Tentative: \t3\n",
      "Rejected: \t1\n",
      "Iteration: \t24 / 100\n",
      "Confirmed: \t4\n",
      "Tentative: \t3\n",
      "Rejected: \t1\n",
      "Iteration: \t25 / 100\n",
      "Confirmed: \t4\n",
      "Tentative: \t3\n",
      "Rejected: \t1\n",
      "Iteration: \t26 / 100\n",
      "Confirmed: \t4\n",
      "Tentative: \t2\n",
      "Rejected: \t2\n",
      "Iteration: \t27 / 100\n",
      "Confirmed: \t4\n",
      "Tentative: \t2\n",
      "Rejected: \t2\n",
      "Iteration: \t28 / 100\n",
      "Confirmed: \t4\n",
      "Tentative: \t2\n",
      "Rejected: \t2\n",
      "Iteration: \t29 / 100\n",
      "Confirmed: \t4\n",
      "Tentative: \t2\n",
      "Rejected: \t2\n",
      "Iteration: \t30 / 100\n",
      "Confirmed: \t4\n",
      "Tentative: \t2\n",
      "Rejected: \t2\n",
      "Iteration: \t31 / 100\n",
      "Confirmed: \t4\n",
      "Tentative: \t2\n",
      "Rejected: \t2\n",
      "Iteration: \t32 / 100\n",
      "Confirmed: \t4\n",
      "Tentative: \t2\n",
      "Rejected: \t2\n",
      "Iteration: \t33 / 100\n",
      "Confirmed: \t4\n",
      "Tentative: \t2\n",
      "Rejected: \t2\n",
      "Iteration: \t34 / 100\n",
      "Confirmed: \t4\n",
      "Tentative: \t2\n",
      "Rejected: \t2\n",
      "Iteration: \t35 / 100\n",
      "Confirmed: \t4\n",
      "Tentative: \t2\n",
      "Rejected: \t2\n",
      "Iteration: \t36 / 100\n",
      "Confirmed: \t4\n",
      "Tentative: \t2\n",
      "Rejected: \t2\n",
      "Iteration: \t37 / 100\n",
      "Confirmed: \t4\n",
      "Tentative: \t2\n",
      "Rejected: \t2\n",
      "Iteration: \t38 / 100\n",
      "Confirmed: \t4\n",
      "Tentative: \t2\n",
      "Rejected: \t2\n",
      "Iteration: \t39 / 100\n",
      "Confirmed: \t4\n",
      "Tentative: \t2\n",
      "Rejected: \t2\n",
      "Iteration: \t40 / 100\n",
      "Confirmed: \t4\n",
      "Tentative: \t2\n",
      "Rejected: \t2\n",
      "Iteration: \t41 / 100\n",
      "Confirmed: \t4\n",
      "Tentative: \t2\n",
      "Rejected: \t2\n",
      "Iteration: \t42 / 100\n",
      "Confirmed: \t4\n",
      "Tentative: \t2\n",
      "Rejected: \t2\n",
      "Iteration: \t43 / 100\n",
      "Confirmed: \t4\n",
      "Tentative: \t2\n",
      "Rejected: \t2\n",
      "Iteration: \t44 / 100\n",
      "Confirmed: \t4\n",
      "Tentative: \t2\n",
      "Rejected: \t2\n",
      "Iteration: \t45 / 100\n",
      "Confirmed: \t4\n",
      "Tentative: \t2\n",
      "Rejected: \t2\n",
      "Iteration: \t46 / 100\n",
      "Confirmed: \t4\n",
      "Tentative: \t2\n",
      "Rejected: \t2\n",
      "Iteration: \t47 / 100\n",
      "Confirmed: \t4\n",
      "Tentative: \t2\n",
      "Rejected: \t2\n",
      "Iteration: \t48 / 100\n",
      "Confirmed: \t4\n",
      "Tentative: \t2\n",
      "Rejected: \t2\n",
      "Iteration: \t49 / 100\n",
      "Confirmed: \t5\n",
      "Tentative: \t1\n",
      "Rejected: \t2\n",
      "Iteration: \t50 / 100\n",
      "Confirmed: \t5\n",
      "Tentative: \t1\n",
      "Rejected: \t2\n",
      "Iteration: \t51 / 100\n",
      "Confirmed: \t5\n",
      "Tentative: \t1\n",
      "Rejected: \t2\n",
      "Iteration: \t52 / 100\n",
      "Confirmed: \t5\n",
      "Tentative: \t1\n",
      "Rejected: \t2\n",
      "Iteration: \t53 / 100\n",
      "Confirmed: \t5\n",
      "Tentative: \t1\n",
      "Rejected: \t2\n",
      "Iteration: \t54 / 100\n",
      "Confirmed: \t5\n",
      "Tentative: \t1\n",
      "Rejected: \t2\n",
      "Iteration: \t55 / 100\n",
      "Confirmed: \t5\n",
      "Tentative: \t1\n",
      "Rejected: \t2\n",
      "Iteration: \t56 / 100\n",
      "Confirmed: \t5\n",
      "Tentative: \t1\n",
      "Rejected: \t2\n",
      "Iteration: \t57 / 100\n",
      "Confirmed: \t5\n",
      "Tentative: \t1\n",
      "Rejected: \t2\n",
      "Iteration: \t58 / 100\n",
      "Confirmed: \t5\n",
      "Tentative: \t1\n",
      "Rejected: \t2\n",
      "Iteration: \t59 / 100\n",
      "Confirmed: \t5\n",
      "Tentative: \t1\n",
      "Rejected: \t2\n",
      "Iteration: \t60 / 100\n",
      "Confirmed: \t5\n",
      "Tentative: \t1\n",
      "Rejected: \t2\n",
      "Iteration: \t61 / 100\n",
      "Confirmed: \t5\n",
      "Tentative: \t1\n",
      "Rejected: \t2\n",
      "Iteration: \t62 / 100\n",
      "Confirmed: \t5\n",
      "Tentative: \t1\n",
      "Rejected: \t2\n",
      "Iteration: \t63 / 100\n",
      "Confirmed: \t5\n",
      "Tentative: \t1\n",
      "Rejected: \t2\n",
      "Iteration: \t64 / 100\n",
      "Confirmed: \t5\n",
      "Tentative: \t1\n",
      "Rejected: \t2\n",
      "Iteration: \t65 / 100\n",
      "Confirmed: \t5\n",
      "Tentative: \t1\n",
      "Rejected: \t2\n",
      "Iteration: \t66 / 100\n",
      "Confirmed: \t5\n",
      "Tentative: \t1\n",
      "Rejected: \t2\n",
      "Iteration: \t67 / 100\n",
      "Confirmed: \t5\n",
      "Tentative: \t1\n",
      "Rejected: \t2\n",
      "Iteration: \t68 / 100\n",
      "Confirmed: \t5\n",
      "Tentative: \t1\n",
      "Rejected: \t2\n",
      "Iteration: \t69 / 100\n",
      "Confirmed: \t5\n",
      "Tentative: \t1\n",
      "Rejected: \t2\n",
      "Iteration: \t70 / 100\n",
      "Confirmed: \t5\n",
      "Tentative: \t1\n",
      "Rejected: \t2\n",
      "Iteration: \t71 / 100\n",
      "Confirmed: \t5\n",
      "Tentative: \t1\n",
      "Rejected: \t2\n",
      "Iteration: \t72 / 100\n",
      "Confirmed: \t5\n",
      "Tentative: \t1\n",
      "Rejected: \t2\n",
      "Iteration: \t73 / 100\n",
      "Confirmed: \t5\n",
      "Tentative: \t1\n",
      "Rejected: \t2\n",
      "Iteration: \t74 / 100\n",
      "Confirmed: \t5\n",
      "Tentative: \t1\n",
      "Rejected: \t2\n",
      "Iteration: \t75 / 100\n",
      "Confirmed: \t5\n",
      "Tentative: \t1\n",
      "Rejected: \t2\n",
      "Iteration: \t76 / 100\n",
      "Confirmed: \t5\n",
      "Tentative: \t1\n",
      "Rejected: \t2\n",
      "Iteration: \t77 / 100\n",
      "Confirmed: \t5\n",
      "Tentative: \t1\n",
      "Rejected: \t2\n",
      "Iteration: \t78 / 100\n",
      "Confirmed: \t5\n",
      "Tentative: \t1\n",
      "Rejected: \t2\n",
      "Iteration: \t79 / 100\n",
      "Confirmed: \t5\n",
      "Tentative: \t1\n",
      "Rejected: \t2\n",
      "Iteration: \t80 / 100\n",
      "Confirmed: \t5\n",
      "Tentative: \t1\n",
      "Rejected: \t2\n",
      "Iteration: \t81 / 100\n",
      "Confirmed: \t5\n",
      "Tentative: \t1\n",
      "Rejected: \t2\n",
      "Iteration: \t82 / 100\n",
      "Confirmed: \t5\n",
      "Tentative: \t1\n",
      "Rejected: \t2\n",
      "Iteration: \t83 / 100\n",
      "Confirmed: \t5\n",
      "Tentative: \t1\n",
      "Rejected: \t2\n",
      "Iteration: \t84 / 100\n",
      "Confirmed: \t5\n",
      "Tentative: \t1\n",
      "Rejected: \t2\n",
      "Iteration: \t85 / 100\n",
      "Confirmed: \t5\n",
      "Tentative: \t1\n",
      "Rejected: \t2\n",
      "Iteration: \t86 / 100\n",
      "Confirmed: \t5\n",
      "Tentative: \t1\n",
      "Rejected: \t2\n",
      "Iteration: \t87 / 100\n",
      "Confirmed: \t5\n",
      "Tentative: \t1\n",
      "Rejected: \t2\n",
      "Iteration: \t88 / 100\n",
      "Confirmed: \t5\n",
      "Tentative: \t1\n",
      "Rejected: \t2\n",
      "Iteration: \t89 / 100\n",
      "Confirmed: \t5\n",
      "Tentative: \t1\n",
      "Rejected: \t2\n",
      "Iteration: \t90 / 100\n",
      "Confirmed: \t5\n",
      "Tentative: \t1\n",
      "Rejected: \t2\n",
      "Iteration: \t91 / 100\n",
      "Confirmed: \t5\n",
      "Tentative: \t1\n",
      "Rejected: \t2\n",
      "Iteration: \t92 / 100\n",
      "Confirmed: \t5\n",
      "Tentative: \t1\n",
      "Rejected: \t2\n",
      "Iteration: \t93 / 100\n",
      "Confirmed: \t5\n",
      "Tentative: \t1\n",
      "Rejected: \t2\n",
      "Iteration: \t94 / 100\n",
      "Confirmed: \t5\n",
      "Tentative: \t1\n",
      "Rejected: \t2\n",
      "Iteration: \t95 / 100\n",
      "Confirmed: \t5\n",
      "Tentative: \t1\n",
      "Rejected: \t2\n",
      "Iteration: \t96 / 100\n",
      "Confirmed: \t5\n",
      "Tentative: \t1\n",
      "Rejected: \t2\n",
      "Iteration: \t97 / 100\n",
      "Confirmed: \t5\n",
      "Tentative: \t1\n",
      "Rejected: \t2\n",
      "Iteration: \t98 / 100\n",
      "Confirmed: \t5\n",
      "Tentative: \t1\n",
      "Rejected: \t2\n",
      "Iteration: \t99 / 100\n",
      "Confirmed: \t5\n",
      "Tentative: \t1\n",
      "Rejected: \t2\n",
      "\n",
      "\n",
      "BorutaPy finished running.\n",
      "\n",
      "Iteration: \t100 / 100\n",
      "Confirmed: \t5\n",
      "Tentative: \t0\n",
      "Rejected: \t2\n"
     ]
    },
    {
     "data": {
      "text/html": [
       "<style>#sk-container-id-2 {color: black;background-color: white;}#sk-container-id-2 pre{padding: 0;}#sk-container-id-2 div.sk-toggleable {background-color: white;}#sk-container-id-2 label.sk-toggleable__label {cursor: pointer;display: block;width: 100%;margin-bottom: 0;padding: 0.3em;box-sizing: border-box;text-align: center;}#sk-container-id-2 label.sk-toggleable__label-arrow:before {content: \"▸\";float: left;margin-right: 0.25em;color: #696969;}#sk-container-id-2 label.sk-toggleable__label-arrow:hover:before {color: black;}#sk-container-id-2 div.sk-estimator:hover label.sk-toggleable__label-arrow:before {color: black;}#sk-container-id-2 div.sk-toggleable__content {max-height: 0;max-width: 0;overflow: hidden;text-align: left;background-color: #f0f8ff;}#sk-container-id-2 div.sk-toggleable__content pre {margin: 0.2em;color: black;border-radius: 0.25em;background-color: #f0f8ff;}#sk-container-id-2 input.sk-toggleable__control:checked~div.sk-toggleable__content {max-height: 200px;max-width: 100%;overflow: auto;}#sk-container-id-2 input.sk-toggleable__control:checked~label.sk-toggleable__label-arrow:before {content: \"▾\";}#sk-container-id-2 div.sk-estimator input.sk-toggleable__control:checked~label.sk-toggleable__label {background-color: #d4ebff;}#sk-container-id-2 div.sk-label input.sk-toggleable__control:checked~label.sk-toggleable__label {background-color: #d4ebff;}#sk-container-id-2 input.sk-hidden--visually {border: 0;clip: rect(1px 1px 1px 1px);clip: rect(1px, 1px, 1px, 1px);height: 1px;margin: -1px;overflow: hidden;padding: 0;position: absolute;width: 1px;}#sk-container-id-2 div.sk-estimator {font-family: monospace;background-color: #f0f8ff;border: 1px dotted black;border-radius: 0.25em;box-sizing: border-box;margin-bottom: 0.5em;}#sk-container-id-2 div.sk-estimator:hover {background-color: #d4ebff;}#sk-container-id-2 div.sk-parallel-item::after {content: \"\";width: 100%;border-bottom: 1px solid gray;flex-grow: 1;}#sk-container-id-2 div.sk-label:hover label.sk-toggleable__label {background-color: #d4ebff;}#sk-container-id-2 div.sk-serial::before {content: \"\";position: absolute;border-left: 1px solid gray;box-sizing: border-box;top: 0;bottom: 0;left: 50%;z-index: 0;}#sk-container-id-2 div.sk-serial {display: flex;flex-direction: column;align-items: center;background-color: white;padding-right: 0.2em;padding-left: 0.2em;position: relative;}#sk-container-id-2 div.sk-item {position: relative;z-index: 1;}#sk-container-id-2 div.sk-parallel {display: flex;align-items: stretch;justify-content: center;background-color: white;position: relative;}#sk-container-id-2 div.sk-item::before, #sk-container-id-2 div.sk-parallel-item::before {content: \"\";position: absolute;border-left: 1px solid gray;box-sizing: border-box;top: 0;bottom: 0;left: 50%;z-index: -1;}#sk-container-id-2 div.sk-parallel-item {display: flex;flex-direction: column;z-index: 1;position: relative;background-color: white;}#sk-container-id-2 div.sk-parallel-item:first-child::after {align-self: flex-end;width: 50%;}#sk-container-id-2 div.sk-parallel-item:last-child::after {align-self: flex-start;width: 50%;}#sk-container-id-2 div.sk-parallel-item:only-child::after {width: 0;}#sk-container-id-2 div.sk-dashed-wrapped {border: 1px dashed gray;margin: 0 0.4em 0.5em 0.4em;box-sizing: border-box;padding-bottom: 0.4em;background-color: white;}#sk-container-id-2 div.sk-label label {font-family: monospace;font-weight: bold;display: inline-block;line-height: 1.2em;}#sk-container-id-2 div.sk-label-container {text-align: center;}#sk-container-id-2 div.sk-container {/* jupyter's `normalize.less` sets `[hidden] { display: none; }` but bootstrap.min.css set `[hidden] { display: none !important; }` so we also need the `!important` here to be able to override the default hidden behavior on the sphinx rendered scikit-learn.org. See: https://github.com/scikit-learn/scikit-learn/issues/21755 */display: inline-block !important;position: relative;}#sk-container-id-2 div.sk-text-repr-fallback {display: none;}</style><div id=\"sk-container-id-2\" class=\"sk-top-container\"><div class=\"sk-text-repr-fallback\"><pre>BorutaPy(estimator=RandomForestClassifier(max_depth=5, n_estimators=69,\n",
       "                                          n_jobs=-1,\n",
       "                                          random_state=RandomState(MT19937) at 0x23D3E34D940),\n",
       "         n_estimators=&#x27;auto&#x27;,\n",
       "         random_state=RandomState(MT19937) at 0x23D3E34D940, verbose=2)</pre><b>In a Jupyter environment, please rerun this cell to show the HTML representation or trust the notebook. <br />On GitHub, the HTML representation is unable to render, please try loading this page with nbviewer.org.</b></div><div class=\"sk-container\" hidden><div class=\"sk-item sk-dashed-wrapped\"><div class=\"sk-label-container\"><div class=\"sk-label sk-toggleable\"><input class=\"sk-toggleable__control sk-hidden--visually\" id=\"sk-estimator-id-2\" type=\"checkbox\" ><label for=\"sk-estimator-id-2\" class=\"sk-toggleable__label sk-toggleable__label-arrow\">BorutaPy</label><div class=\"sk-toggleable__content\"><pre>BorutaPy(estimator=RandomForestClassifier(max_depth=5, n_estimators=69,\n",
       "                                          n_jobs=-1,\n",
       "                                          random_state=RandomState(MT19937) at 0x23D3E34D940),\n",
       "         n_estimators=&#x27;auto&#x27;,\n",
       "         random_state=RandomState(MT19937) at 0x23D3E34D940, verbose=2)</pre></div></div></div><div class=\"sk-parallel\"><div class=\"sk-parallel-item\"><div class=\"sk-item\"><div class=\"sk-label-container\"><div class=\"sk-label sk-toggleable\"><input class=\"sk-toggleable__control sk-hidden--visually\" id=\"sk-estimator-id-3\" type=\"checkbox\" ><label for=\"sk-estimator-id-3\" class=\"sk-toggleable__label sk-toggleable__label-arrow\">estimator: RandomForestClassifier</label><div class=\"sk-toggleable__content\"><pre>RandomForestClassifier(max_depth=5, n_estimators=69, n_jobs=-1,\n",
       "                       random_state=RandomState(MT19937) at 0x23D3E34D940)</pre></div></div></div><div class=\"sk-serial\"><div class=\"sk-item\"><div class=\"sk-estimator sk-toggleable\"><input class=\"sk-toggleable__control sk-hidden--visually\" id=\"sk-estimator-id-4\" type=\"checkbox\" ><label for=\"sk-estimator-id-4\" class=\"sk-toggleable__label sk-toggleable__label-arrow\">RandomForestClassifier</label><div class=\"sk-toggleable__content\"><pre>RandomForestClassifier(max_depth=5, n_estimators=69, n_jobs=-1,\n",
       "                       random_state=RandomState(MT19937) at 0x23D3E34D940)</pre></div></div></div></div></div></div></div></div></div></div>"
      ],
      "text/plain": [
       "BorutaPy(estimator=RandomForestClassifier(max_depth=5, n_estimators=69,\n",
       "                                          n_jobs=-1,\n",
       "                                          random_state=RandomState(MT19937) at 0x23D3E34D940),\n",
       "         n_estimators='auto',\n",
       "         random_state=RandomState(MT19937) at 0x23D3E34D940, verbose=2)"
      ]
     },
     "execution_count": 23,
     "metadata": {},
     "output_type": "execute_result"
    }
   ],
   "source": [
    "# define Boruta feature selection method\n",
    "# boruta_selector = BorutaPy(forest, n_estimators='auto', verbose=2)\n",
    "boruta_selector = BorutaPy(forest, n_estimators='auto', verbose=2, random_state=1)\n",
    "\n",
    "# find all relevant features\n",
    "boruta_selector.fit(np.array(X_train), np.array(y_train))"
   ]
  },
  {
   "cell_type": "code",
   "execution_count": 24,
   "metadata": {},
   "outputs": [
    {
     "name": "stdout",
     "output_type": "stream",
     "text": [
      "Selected Features:  [False  True False False  True  True  True  True]\n",
      "Ranking:  [2 1 3 4 1 1 1 1]\n",
      "No. of significant features:  5\n"
     ]
    }
   ],
   "source": [
    "# check selected features\n",
    "print(\"Selected Features: \", boruta_selector.support_)\n",
    "\n",
    "# check ranking of features\n",
    "print(\"Ranking: \",boruta_selector.ranking_)\n",
    "\n",
    "print(\"No. of significant features: \", boruta_selector.n_features_)"
   ]
  },
  {
   "cell_type": "code",
   "execution_count": 25,
   "metadata": {},
   "outputs": [
    {
     "data": {
      "text/html": [
       "<div>\n",
       "<style scoped>\n",
       "    .dataframe tbody tr th:only-of-type {\n",
       "        vertical-align: middle;\n",
       "    }\n",
       "\n",
       "    .dataframe tbody tr th {\n",
       "        vertical-align: top;\n",
       "    }\n",
       "\n",
       "    .dataframe thead th {\n",
       "        text-align: right;\n",
       "    }\n",
       "</style>\n",
       "<table border=\"1\" class=\"dataframe\">\n",
       "  <thead>\n",
       "    <tr style=\"text-align: right;\">\n",
       "      <th></th>\n",
       "      <th>Feature</th>\n",
       "      <th>Ranking</th>\n",
       "    </tr>\n",
       "  </thead>\n",
       "  <tbody>\n",
       "    <tr>\n",
       "      <th>1</th>\n",
       "      <td>glucose</td>\n",
       "      <td>1</td>\n",
       "    </tr>\n",
       "    <tr>\n",
       "      <th>4</th>\n",
       "      <td>insulin</td>\n",
       "      <td>1</td>\n",
       "    </tr>\n",
       "    <tr>\n",
       "      <th>5</th>\n",
       "      <td>bmi</td>\n",
       "      <td>1</td>\n",
       "    </tr>\n",
       "    <tr>\n",
       "      <th>6</th>\n",
       "      <td>pedi</td>\n",
       "      <td>1</td>\n",
       "    </tr>\n",
       "    <tr>\n",
       "      <th>7</th>\n",
       "      <td>age</td>\n",
       "      <td>1</td>\n",
       "    </tr>\n",
       "    <tr>\n",
       "      <th>0</th>\n",
       "      <td>preg</td>\n",
       "      <td>2</td>\n",
       "    </tr>\n",
       "    <tr>\n",
       "      <th>2</th>\n",
       "      <td>bp</td>\n",
       "      <td>3</td>\n",
       "    </tr>\n",
       "    <tr>\n",
       "      <th>3</th>\n",
       "      <td>skin</td>\n",
       "      <td>4</td>\n",
       "    </tr>\n",
       "  </tbody>\n",
       "</table>\n",
       "</div>"
      ],
      "text/plain": [
       "   Feature  Ranking\n",
       "1  glucose        1\n",
       "4  insulin        1\n",
       "5      bmi        1\n",
       "6     pedi        1\n",
       "7      age        1\n",
       "0     preg        2\n",
       "2       bp        3\n",
       "3     skin        4"
      ]
     },
     "execution_count": 25,
     "metadata": {},
     "output_type": "execute_result"
    }
   ],
   "source": [
    "# Let's visualise it better in the form of a table\n",
    "selected_rfe_features = pd.DataFrame({'Feature':list(X_train.columns),\n",
    "'Ranking':boruta_selector.ranking_})\n",
    "selected_rfe_features.sort_values(by='Ranking')"
   ]
  },
  {
   "attachments": {},
   "cell_type": "markdown",
   "metadata": {},
   "source": [
    "Our model gave glucose, insulin, bmi, pedi and age the first rank.\n",
    "\n",
    "**Create a new subset of the data with only the selected features**"
   ]
  },
  {
   "cell_type": "code",
   "execution_count": 26,
   "metadata": {},
   "outputs": [],
   "source": [
    "X_important_train = boruta_selector.transform(np.array(X_train))\n",
    "X_important_test = boruta_selector.transform(np.array(X_test))"
   ]
  },
  {
   "cell_type": "code",
   "execution_count": 27,
   "metadata": {},
   "outputs": [
    {
     "data": {
      "text/html": [
       "<style>#sk-container-id-3 {color: black;background-color: white;}#sk-container-id-3 pre{padding: 0;}#sk-container-id-3 div.sk-toggleable {background-color: white;}#sk-container-id-3 label.sk-toggleable__label {cursor: pointer;display: block;width: 100%;margin-bottom: 0;padding: 0.3em;box-sizing: border-box;text-align: center;}#sk-container-id-3 label.sk-toggleable__label-arrow:before {content: \"▸\";float: left;margin-right: 0.25em;color: #696969;}#sk-container-id-3 label.sk-toggleable__label-arrow:hover:before {color: black;}#sk-container-id-3 div.sk-estimator:hover label.sk-toggleable__label-arrow:before {color: black;}#sk-container-id-3 div.sk-toggleable__content {max-height: 0;max-width: 0;overflow: hidden;text-align: left;background-color: #f0f8ff;}#sk-container-id-3 div.sk-toggleable__content pre {margin: 0.2em;color: black;border-radius: 0.25em;background-color: #f0f8ff;}#sk-container-id-3 input.sk-toggleable__control:checked~div.sk-toggleable__content {max-height: 200px;max-width: 100%;overflow: auto;}#sk-container-id-3 input.sk-toggleable__control:checked~label.sk-toggleable__label-arrow:before {content: \"▾\";}#sk-container-id-3 div.sk-estimator input.sk-toggleable__control:checked~label.sk-toggleable__label {background-color: #d4ebff;}#sk-container-id-3 div.sk-label input.sk-toggleable__control:checked~label.sk-toggleable__label {background-color: #d4ebff;}#sk-container-id-3 input.sk-hidden--visually {border: 0;clip: rect(1px 1px 1px 1px);clip: rect(1px, 1px, 1px, 1px);height: 1px;margin: -1px;overflow: hidden;padding: 0;position: absolute;width: 1px;}#sk-container-id-3 div.sk-estimator {font-family: monospace;background-color: #f0f8ff;border: 1px dotted black;border-radius: 0.25em;box-sizing: border-box;margin-bottom: 0.5em;}#sk-container-id-3 div.sk-estimator:hover {background-color: #d4ebff;}#sk-container-id-3 div.sk-parallel-item::after {content: \"\";width: 100%;border-bottom: 1px solid gray;flex-grow: 1;}#sk-container-id-3 div.sk-label:hover label.sk-toggleable__label {background-color: #d4ebff;}#sk-container-id-3 div.sk-serial::before {content: \"\";position: absolute;border-left: 1px solid gray;box-sizing: border-box;top: 0;bottom: 0;left: 50%;z-index: 0;}#sk-container-id-3 div.sk-serial {display: flex;flex-direction: column;align-items: center;background-color: white;padding-right: 0.2em;padding-left: 0.2em;position: relative;}#sk-container-id-3 div.sk-item {position: relative;z-index: 1;}#sk-container-id-3 div.sk-parallel {display: flex;align-items: stretch;justify-content: center;background-color: white;position: relative;}#sk-container-id-3 div.sk-item::before, #sk-container-id-3 div.sk-parallel-item::before {content: \"\";position: absolute;border-left: 1px solid gray;box-sizing: border-box;top: 0;bottom: 0;left: 50%;z-index: -1;}#sk-container-id-3 div.sk-parallel-item {display: flex;flex-direction: column;z-index: 1;position: relative;background-color: white;}#sk-container-id-3 div.sk-parallel-item:first-child::after {align-self: flex-end;width: 50%;}#sk-container-id-3 div.sk-parallel-item:last-child::after {align-self: flex-start;width: 50%;}#sk-container-id-3 div.sk-parallel-item:only-child::after {width: 0;}#sk-container-id-3 div.sk-dashed-wrapped {border: 1px dashed gray;margin: 0 0.4em 0.5em 0.4em;box-sizing: border-box;padding-bottom: 0.4em;background-color: white;}#sk-container-id-3 div.sk-label label {font-family: monospace;font-weight: bold;display: inline-block;line-height: 1.2em;}#sk-container-id-3 div.sk-label-container {text-align: center;}#sk-container-id-3 div.sk-container {/* jupyter's `normalize.less` sets `[hidden] { display: none; }` but bootstrap.min.css set `[hidden] { display: none !important; }` so we also need the `!important` here to be able to override the default hidden behavior on the sphinx rendered scikit-learn.org. See: https://github.com/scikit-learn/scikit-learn/issues/21755 */display: inline-block !important;position: relative;}#sk-container-id-3 div.sk-text-repr-fallback {display: none;}</style><div id=\"sk-container-id-3\" class=\"sk-top-container\"><div class=\"sk-text-repr-fallback\"><pre>RandomForestClassifier(n_estimators=10000, n_jobs=-1, random_state=1)</pre><b>In a Jupyter environment, please rerun this cell to show the HTML representation or trust the notebook. <br />On GitHub, the HTML representation is unable to render, please try loading this page with nbviewer.org.</b></div><div class=\"sk-container\" hidden><div class=\"sk-item\"><div class=\"sk-estimator sk-toggleable\"><input class=\"sk-toggleable__control sk-hidden--visually\" id=\"sk-estimator-id-5\" type=\"checkbox\" checked><label for=\"sk-estimator-id-5\" class=\"sk-toggleable__label sk-toggleable__label-arrow\">RandomForestClassifier</label><div class=\"sk-toggleable__content\"><pre>RandomForestClassifier(n_estimators=10000, n_jobs=-1, random_state=1)</pre></div></div></div></div></div>"
      ],
      "text/plain": [
       "RandomForestClassifier(n_estimators=10000, n_jobs=-1, random_state=1)"
      ]
     },
     "execution_count": 27,
     "metadata": {},
     "output_type": "execute_result"
    }
   ],
   "source": [
    "# Create a new random forest classifier for the most important features\n",
    "rf_important = RandomForestClassifier(n_estimators=10000, random_state=1, n_jobs=-1)\n",
    "\n",
    "# Train the new classifier on the new dataset containing the most important features\n",
    "rf_important.fit(X_important_train, y_train)"
   ]
  },
  {
   "attachments": {},
   "cell_type": "markdown",
   "metadata": {},
   "source": [
    "**Comparison of model performance with and without feature selection**"
   ]
  },
  {
   "cell_type": "code",
   "execution_count": 28,
   "metadata": {},
   "outputs": [
    {
     "name": "stdout",
     "output_type": "stream",
     "text": [
      "Limited Features Boruta Model Accuracy: 0.7755905511811023\n",
      "Limited Features Boruta Model F1 Score: 0.6586826347305389\n"
     ]
    }
   ],
   "source": [
    "# Apply The Limited Featured Classifier To The Test Data\n",
    "y_important_pred = rf_important.predict(X_important_test)\n",
    "\n",
    "# View The Accuracy Of Our Limited Feature (4 Features) Model\n",
    "rf_imp_ac = accuracy_score(y_test, y_important_pred)\n",
    "rf_imp_fscore = f1_score(y_test, y_important_pred)\n",
    "\n",
    "print(\"Limited Features Boruta Model Accuracy:\", rf_imp_ac)\n",
    "print(\"Limited Features Boruta Model F1 Score:\", rf_imp_fscore)"
   ]
  },
  {
   "attachments": {},
   "cell_type": "markdown",
   "metadata": {},
   "source": [
    "The Accuracy has dropped and F1 Score has increased slightly on using Boruta. The no. of features have dropped from 8 to 5 however. This might be useful in cases where we want to reduce dimensionality even with some reduction in accuracy metrics."
   ]
  },
  {
   "attachments": {},
   "cell_type": "markdown",
   "metadata": {},
   "source": [
    "### 4. XGBoost"
   ]
  },
  {
   "attachments": {},
   "cell_type": "markdown",
   "metadata": {},
   "source": [
    "Xgboost is short for eXtreme Gradient Boosting package.\n",
    "\n",
    "XGBoost model has the best combination of prediction performance and processing time compared to other algorithms. No wonder it is widely used in recent Data Science competitions.\n",
    "\n",
    "MUST READ: Learn about XGBoost here: https://towardsdatascience.com/https-medium-com-vishalmorde-xgboost-algorithm-long-she-may-rein-edd9f99be63d\n",
    "\n",
    "!pip install xgboost"
   ]
  },
  {
   "attachments": {},
   "cell_type": "markdown",
   "metadata": {},
   "source": [
    "**Train a XGBoost Classifier (Baseline Model)**"
   ]
  },
  {
   "cell_type": "code",
   "execution_count": 29,
   "metadata": {},
   "outputs": [
    {
     "name": "stdout",
     "output_type": "stream",
     "text": [
      "Feature Importances :  [0.10440844 0.21552514 0.09496945 0.08279031 0.10608898 0.15713802\n",
      " 0.0953111  0.1437686 ]\n"
     ]
    },
    {
     "data": {
      "image/png": "[encoded data removed]",
      "text/plain": [
       "<Figure size 640x480 with 1 Axes>"
      ]
     },
     "metadata": {},
     "output_type": "display_data"
    }
   ],
   "source": [
    "from xgboost import XGBClassifier\n",
    "from xgboost import plot_importance\n",
    "\n",
    "# fit model to training data\n",
    "xgb_model = XGBClassifier(random_state = 0 )\n",
    "xgb_model.fit(X_train, y_train)\n",
    "\n",
    "print(\"Feature Importances : \", xgb_model.feature_importances_)\n",
    "\n",
    "# plot feature importance\n",
    "plot_importance(xgb_model)\n",
    "plt.show()"
   ]
  },
  {
   "attachments": {},
   "cell_type": "markdown",
   "metadata": {},
   "source": [
    "XGBoost tells us that pedi, glucose, bmi and age are the top 4 features."
   ]
  },
  {
   "cell_type": "code",
   "execution_count": 30,
   "metadata": {},
   "outputs": [
    {
     "data": {
      "text/html": [
       "<style>#sk-container-id-4 {color: black;background-color: white;}#sk-container-id-4 pre{padding: 0;}#sk-container-id-4 div.sk-toggleable {background-color: white;}#sk-container-id-4 label.sk-toggleable__label {cursor: pointer;display: block;width: 100%;margin-bottom: 0;padding: 0.3em;box-sizing: border-box;text-align: center;}#sk-container-id-4 label.sk-toggleable__label-arrow:before {content: \"▸\";float: left;margin-right: 0.25em;color: #696969;}#sk-container-id-4 label.sk-toggleable__label-arrow:hover:before {color: black;}#sk-container-id-4 div.sk-estimator:hover label.sk-toggleable__label-arrow:before {color: black;}#sk-container-id-4 div.sk-toggleable__content {max-height: 0;max-width: 0;overflow: hidden;text-align: left;background-color: #f0f8ff;}#sk-container-id-4 div.sk-toggleable__content pre {margin: 0.2em;color: black;border-radius: 0.25em;background-color: #f0f8ff;}#sk-container-id-4 input.sk-toggleable__control:checked~div.sk-toggleable__content {max-height: 200px;max-width: 100%;overflow: auto;}#sk-container-id-4 input.sk-toggleable__control:checked~label.sk-toggleable__label-arrow:before {content: \"▾\";}#sk-container-id-4 div.sk-estimator input.sk-toggleable__control:checked~label.sk-toggleable__label {background-color: #d4ebff;}#sk-container-id-4 div.sk-label input.sk-toggleable__control:checked~label.sk-toggleable__label {background-color: #d4ebff;}#sk-container-id-4 input.sk-hidden--visually {border: 0;clip: rect(1px 1px 1px 1px);clip: rect(1px, 1px, 1px, 1px);height: 1px;margin: -1px;overflow: hidden;padding: 0;position: absolute;width: 1px;}#sk-container-id-4 div.sk-estimator {font-family: monospace;background-color: #f0f8ff;border: 1px dotted black;border-radius: 0.25em;box-sizing: border-box;margin-bottom: 0.5em;}#sk-container-id-4 div.sk-estimator:hover {background-color: #d4ebff;}#sk-container-id-4 div.sk-parallel-item::after {content: \"\";width: 100%;border-bottom: 1px solid gray;flex-grow: 1;}#sk-container-id-4 div.sk-label:hover label.sk-toggleable__label {background-color: #d4ebff;}#sk-container-id-4 div.sk-serial::before {content: \"\";position: absolute;border-left: 1px solid gray;box-sizing: border-box;top: 0;bottom: 0;left: 50%;z-index: 0;}#sk-container-id-4 div.sk-serial {display: flex;flex-direction: column;align-items: center;background-color: white;padding-right: 0.2em;padding-left: 0.2em;position: relative;}#sk-container-id-4 div.sk-item {position: relative;z-index: 1;}#sk-container-id-4 div.sk-parallel {display: flex;align-items: stretch;justify-content: center;background-color: white;position: relative;}#sk-container-id-4 div.sk-item::before, #sk-container-id-4 div.sk-parallel-item::before {content: \"\";position: absolute;border-left: 1px solid gray;box-sizing: border-box;top: 0;bottom: 0;left: 50%;z-index: -1;}#sk-container-id-4 div.sk-parallel-item {display: flex;flex-direction: column;z-index: 1;position: relative;background-color: white;}#sk-container-id-4 div.sk-parallel-item:first-child::after {align-self: flex-end;width: 50%;}#sk-container-id-4 div.sk-parallel-item:last-child::after {align-self: flex-start;width: 50%;}#sk-container-id-4 div.sk-parallel-item:only-child::after {width: 0;}#sk-container-id-4 div.sk-dashed-wrapped {border: 1px dashed gray;margin: 0 0.4em 0.5em 0.4em;box-sizing: border-box;padding-bottom: 0.4em;background-color: white;}#sk-container-id-4 div.sk-label label {font-family: monospace;font-weight: bold;display: inline-block;line-height: 1.2em;}#sk-container-id-4 div.sk-label-container {text-align: center;}#sk-container-id-4 div.sk-container {/* jupyter's `normalize.less` sets `[hidden] { display: none; }` but bootstrap.min.css set `[hidden] { display: none !important; }` so we also need the `!important` here to be able to override the default hidden behavior on the sphinx rendered scikit-learn.org. See: https://github.com/scikit-learn/scikit-learn/issues/21755 */display: inline-block !important;position: relative;}#sk-container-id-4 div.sk-text-repr-fallback {display: none;}</style><div id=\"sk-container-id-4\" class=\"sk-top-container\"><div class=\"sk-text-repr-fallback\"><pre>XGBClassifier(base_score=None, booster=None, callbacks=None,\n",
       "              colsample_bylevel=None, colsample_bynode=None,\n",
       "              colsample_bytree=None, early_stopping_rounds=None,\n",
       "              enable_categorical=False, eval_metric=None, feature_types=None,\n",
       "              gamma=None, gpu_id=None, grow_policy=None, importance_type=None,\n",
       "              interaction_constraints=None, learning_rate=None, max_bin=None,\n",
       "              max_cat_threshold=None, max_cat_to_onehot=None,\n",
       "              max_delta_step=None, max_depth=None, max_leaves=None,\n",
       "              min_child_weight=None, missing=nan, monotone_constraints=None,\n",
       "              n_estimators=100, n_jobs=None, num_parallel_tree=None,\n",
       "              predictor=None, random_state=None, ...)</pre><b>In a Jupyter environment, please rerun this cell to show the HTML representation or trust the notebook. <br />On GitHub, the HTML representation is unable to render, please try loading this page with nbviewer.org.</b></div><div class=\"sk-container\" hidden><div class=\"sk-item\"><div class=\"sk-estimator sk-toggleable\"><input class=\"sk-toggleable__control sk-hidden--visually\" id=\"sk-estimator-id-6\" type=\"checkbox\" checked><label for=\"sk-estimator-id-6\" class=\"sk-toggleable__label sk-toggleable__label-arrow\">XGBClassifier</label><div class=\"sk-toggleable__content\"><pre>XGBClassifier(base_score=None, booster=None, callbacks=None,\n",
       "              colsample_bylevel=None, colsample_bynode=None,\n",
       "              colsample_bytree=None, early_stopping_rounds=None,\n",
       "              enable_categorical=False, eval_metric=None, feature_types=None,\n",
       "              gamma=None, gpu_id=None, grow_policy=None, importance_type=None,\n",
       "              interaction_constraints=None, learning_rate=None, max_bin=None,\n",
       "              max_cat_threshold=None, max_cat_to_onehot=None,\n",
       "              max_delta_step=None, max_depth=None, max_leaves=None,\n",
       "              min_child_weight=None, missing=nan, monotone_constraints=None,\n",
       "              n_estimators=100, n_jobs=None, num_parallel_tree=None,\n",
       "              predictor=None, random_state=None, ...)</pre></div></div></div></div></div>"
      ],
      "text/plain": [
       "XGBClassifier(base_score=None, booster=None, callbacks=None,\n",
       "              colsample_bylevel=None, colsample_bynode=None,\n",
       "              colsample_bytree=None, early_stopping_rounds=None,\n",
       "              enable_categorical=False, eval_metric=None, feature_types=None,\n",
       "              gamma=None, gpu_id=None, grow_policy=None, importance_type=None,\n",
       "              interaction_constraints=None, learning_rate=None, max_bin=None,\n",
       "              max_cat_threshold=None, max_cat_to_onehot=None,\n",
       "              max_delta_step=None, max_depth=None, max_leaves=None,\n",
       "              min_child_weight=None, missing=nan, monotone_constraints=None,\n",
       "              n_estimators=100, n_jobs=None, num_parallel_tree=None,\n",
       "              predictor=None, random_state=None, ...)"
      ]
     },
     "execution_count": 30,
     "metadata": {},
     "output_type": "execute_result"
    }
   ],
   "source": [
    "selection = SelectFromModel(xgb_model)\n",
    "selection.fit(X_train, y_train)\n",
    "\n",
    "# Transform the train and test features\n",
    "select_X_train = selection.transform(X_train)\n",
    "select_X_test = selection.transform(X_test)\n",
    "\n",
    "# train model\n",
    "selection_model = XGBClassifier()\n",
    "selection_model.fit(select_X_train, y_train)"
   ]
  },
  {
   "cell_type": "code",
   "execution_count": 31,
   "metadata": {},
   "outputs": [
    {
     "name": "stdout",
     "output_type": "stream",
     "text": [
      "XGB Baseline Model Accuracy: 0.7795275590551181\n",
      "XGB Baseline Model F1 Score: 0.6744186046511628\n"
     ]
    }
   ],
   "source": [
    "y_pred = xgb_model.predict(X_test)\n",
    "\n",
    "xgb_ac = accuracy_score(y_test, y_pred)\n",
    "xgb_fscore = f1_score(y_test ,y_pred)\n",
    "\n",
    "print(\"XGB Baseline Model Accuracy:\", xgb_ac)\n",
    "print(\"XGB Baseline Model F1 Score:\", xgb_fscore)"
   ]
  },
  {
   "cell_type": "code",
   "execution_count": 32,
   "metadata": {},
   "outputs": [
    {
     "name": "stdout",
     "output_type": "stream",
     "text": [
      "Limited Features XGBoost Model Accuracy: 0.7480314960629921\n",
      "Limited Features XGBoost Model F1 Score: 0.6404494382022472\n"
     ]
    }
   ],
   "source": [
    "# Evaluating the model\n",
    "predictions = selection_model.predict(select_X_test) # predict for selected features of X_test\n",
    "xgb_accuracy = accuracy_score(y_test, predictions) # Calculating accuracy score on test data\n",
    "xgb_fscore = f1_score(y_test , predictions) # Calculating F1 score on test data\n",
    "\n",
    "\n",
    "# View The Accuracy Of Our Limited Feature (4 Features) Model\n",
    "print(\"Limited Features XGBoost Model Accuracy:\", xgb_accuracy)\n",
    "print(\"Limited Features XGBoost Model F1 Score:\", xgb_fscore)"
   ]
  },
  {
   "attachments": {},
   "cell_type": "markdown",
   "metadata": {},
   "source": [
    "XGBoost was able to achieve a pretty good accuracy and F1 Score."
   ]
  },
  {
   "attachments": {},
   "cell_type": "markdown",
   "metadata": {},
   "source": [
    "### Conclusion\n",
    "\n",
    "- We started with observing the heatmap of our data and derived glucose, bmi, age, preg, pedi and insulin to be the top 6 positively correlated features.\n",
    "\n",
    "- We first trained our baseline Logistic Regression model using all the features.\n",
    "\n",
    "- On implementing the Recursive Feature Elimination technique(claimed preg, glucose, bmi, pedi as top 4 features) on Logistic Regression model, we observed significant change in both the metrics.\n",
    "\n",
    "- Feature Importance technique using RandomForestClassifier stated that glucose, age, bmi, pedi and preg are the most important features of our dataset. Using this, we were able to half the number of features in the model without changing the accuracy.\n",
    "\n",
    "- Boruta didn't improve the performance much but was able to reduce the number of features to 5.\n",
    "\n",
    "- XGBoost gave us good results overall.\n",
    "\n",
    "- After implementing the 4 techniques, we can see that all of them gave us similar set of important features."
   ]
  },
  {
   "attachments": {},
   "cell_type": "markdown",
   "metadata": {},
   "source": [
    "### General Advice\n",
    "\n",
    "- Start with simple techniques.\n",
    "- Always check if what you're doing is helping(increasing your model's accuracy) or hurting.\n",
    "- Don't assume that any given technique is useful.\n",
    "- Not all the feature selection techniques are available in Sklearn. When you're coding a technique on your own, it's easier to make mistakes and that's a lot of work. Therefore, it's better to first focus on the techniques built in Sklearn itself.\n",
    "- Feature selection is a decisive part of a machine learning pipeline: being too conservative means introducing unnecessary noise, while being too aggressive means throwing away useful information.\n",
    "\n",
    "Watch this video you want to learn more about other feature selection techniques: https://www.youtube.com/watch?v=YaKMeAlHgqQ"
   ]
  },
  {
   "cell_type": "code",
   "execution_count": null,
   "metadata": {},
   "outputs": [],
   "source": []
  }
 ],
 "metadata": {
  "kernelspec": {
   "display_name": "Python 3",
   "language": "python",
   "name": "python3"
  },
  "language_info": {
   "codemirror_mode": {
    "name": "ipython",
    "version": 3
   },
   "file_extension": ".py",
   "mimetype": "text/x-python",
   "name": "python",
   "nbconvert_exporter": "python",
   "pygments_lexer": "ipython3",
   "version": "3.8.5"
  },
  "orig_nbformat": 4,
  "vscode": {
   "interpreter": {
    "hash": "9650cb4e16cdd4a8e8e2d128bf38d875813998db22a3c986335f89e0cb4d7bb2"
   }
  }
 },
 "nbformat": 4,
 "nbformat_minor": 2
}
